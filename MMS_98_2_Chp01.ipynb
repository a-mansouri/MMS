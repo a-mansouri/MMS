{
 "cells": [
  {
   "cell_type": "markdown",
   "metadata": {},
   "source": [
    "* Python 3\n",
    "* Opencv 4.1\n",
    "* numpy 1.16.4\n",
    "* sikit-image 0.15.0"
   ]
  },
  {
   "cell_type": "code",
   "execution_count": null,
   "metadata": {},
   "outputs": [],
   "source": [
    "import os\n",
    "import cv2\n",
    "import subprocess\n",
    "cv2.__version__"
   ]
  },
  {
   "cell_type": "markdown",
   "metadata": {},
   "source": [
    "# Load image"
   ]
  },
  {
   "cell_type": "code",
   "execution_count": null,
   "metadata": {},
   "outputs": [],
   "source": [
    "if not os.path.isdir(\"images\"):\n",
    "    !git clone https://github.com/IVP-Lab/MMedia.git\n",
    "    !mv MMedia/images ."
   ]
  },
  {
   "cell_type": "code",
   "execution_count": null,
   "metadata": {},
   "outputs": [],
   "source": [
    "# cv2.IMREAD_UNCHANGED or -1 Load original image\n",
    "org_image = cv2.imread(\"images/mandril.tiff\",cv2.IMREAD_UNCHANGED) \n",
    "org_image = cv2.imread(\"images/mandril.tiff\",-1) \n",
    "\n",
    "# cv2.IMREAD_COLOR or 1 Load color image or left flag blank\n",
    "color_image = cv2.imread(\"images/mandril.tiff\",cv2.IMREAD_COLOR) \n",
    "color_image = cv2.imread(\"images/mandril.tiff\",1) \n",
    "color_image = cv2.imread(\"images/mandril.tiff\") \n",
    "\n",
    "# cv2.IMREAD_GRAYSCALE or 0 load gray scale image\n",
    "gray_image = cv2.imread(\"images/mandril.tiff\",cv2.IMREAD_GRAYSCALE) \n",
    "gray_image = cv2.imread(\"images/mandril.tiff\",0) "
   ]
  },
  {
   "cell_type": "markdown",
   "metadata": {},
   "source": [
    "# Show image"
   ]
  },
  {
   "cell_type": "code",
   "execution_count": null,
   "metadata": {},
   "outputs": [],
   "source": [
    "import matplotlib.pyplot as plt"
   ]
  },
  {
   "cell_type": "markdown",
   "metadata": {},
   "source": [
    "Loaded image color space needs to be changed from BGR to RGB to show correctly"
   ]
  },
  {
   "cell_type": "code",
   "execution_count": null,
   "metadata": {},
   "outputs": [],
   "source": [
    "plt.imshow(org_image)"
   ]
  },
  {
   "cell_type": "code",
   "execution_count": null,
   "metadata": {},
   "outputs": [],
   "source": [
    "org_image = cv2.cvtColor(org_image,cv2.COLOR_BGR2RGB)"
   ]
  },
  {
   "cell_type": "code",
   "execution_count": null,
   "metadata": {},
   "outputs": [],
   "source": [
    "plt.imshow(org_image)"
   ]
  },
  {
   "cell_type": "code",
   "execution_count": null,
   "metadata": {},
   "outputs": [],
   "source": [
    "color_image = cv2.cvtColor(color_image,cv2.COLOR_BGR2RGB)\n",
    "f, subplt = plt.subplots(1,3,figsize=(16,5))\n",
    "subplt[0].imshow(org_image)\n",
    "subplt[0].set_title(\"org image\")\n",
    "subplt[0].grid(False)\n",
    "subplt[1].imshow(color_image)\n",
    "subplt[1].set_title(\"color image\")\n",
    "subplt[1].grid(False)\n",
    "subplt[2].imshow(gray_image,cmap='gray')\n",
    "subplt[2].set_title(\"gray image\")\n",
    "subplt[2].grid(False)"
   ]
  },
  {
   "cell_type": "markdown",
   "metadata": {},
   "source": [
    "# Write image"
   ]
  },
  {
   "cell_type": "code",
   "execution_count": null,
   "metadata": {},
   "outputs": [],
   "source": [
    "camera_man = cv2.imread(\"images/cameraman.tif\",-1)\n",
    "camera_man.shape"
   ]
  },
  {
   "cell_type": "code",
   "execution_count": null,
   "metadata": {},
   "outputs": [],
   "source": [
    "plt.imshow(camera_man,cmap='gray')\n",
    "plt.show()"
   ]
  },
  {
   "cell_type": "code",
   "execution_count": null,
   "metadata": {},
   "outputs": [],
   "source": [
    "if not os.path.isdir(\"outputs\"):\n",
    "    os.mkdir(\"outputs\")"
   ]
  },
  {
   "cell_type": "code",
   "execution_count": null,
   "metadata": {},
   "outputs": [],
   "source": [
    "cv2.imwrite(\"outputs/myfile_q5.jpg\",camera_man,[int(cv2.IMWRITE_JPEG_QUALITY),5])\n",
    "cv2.imwrite(\"outputs/myfile_q10.jpg\",camera_man,[int(cv2.IMWRITE_JPEG_QUALITY),10])\n",
    "cv2.imwrite(\"outputs/myfile_q35.jpg\",camera_man,[int(cv2.IMWRITE_JPEG_QUALITY),35])"
   ]
  },
  {
   "cell_type": "code",
   "execution_count": null,
   "metadata": {},
   "outputs": [],
   "source": [
    "camera_man_q5 = cv2.imread(\"outputs/myfile_q5.jpg\",-1)\n",
    "camera_man_q10 = cv2.imread(\"outputs/myfile_q10.jpg\",-1)\n",
    "camera_man_q35 = cv2.imread(\"outputs/myfile_q35.jpg\",-1)"
   ]
  },
  {
   "cell_type": "code",
   "execution_count": null,
   "metadata": {},
   "outputs": [],
   "source": [
    "f, subplt = plt.subplots(2,2,figsize=(16,14))\n",
    "subplt[0,0].imshow(camera_man,cmap='gray')\n",
    "subplt[0,0].set_title(\"orginal image(65.9KB)\")\n",
    "# show Q5\n",
    "subplt[1,0].imshow(camera_man_q5,cmap='gray')\n",
    "subplt[1,0].set_title(\"Q=5(1.9KB)\")\n",
    "# show Q5\n",
    "subplt[1,1].imshow(camera_man_q10,cmap='gray')\n",
    "subplt[1,1].set_title(\"Q=10(2.7KB)\")\n",
    "# show Q5\n",
    "subplt[0,1].imshow(camera_man_q35,cmap='gray')\n",
    "subplt[0,1].set_title(\"Q=35(5.8KB)\")\n",
    "plt.show()"
   ]
  },
  {
   "cell_type": "markdown",
   "metadata": {},
   "source": [
    "# Type conversion"
   ]
  },
  {
   "cell_type": "code",
   "execution_count": null,
   "metadata": {},
   "outputs": [],
   "source": [
    "import numpy as np"
   ]
  },
  {
   "cell_type": "code",
   "execution_count": null,
   "metadata": {},
   "outputs": [],
   "source": [
    "a = np.array([[-0.3, 0.5],[0.75, 1]],dtype=np.float32)\n",
    "print(a)\n",
    "print(type(a))"
   ]
  },
  {
   "cell_type": "markdown",
   "metadata": {},
   "source": [
    "[Conver images Doc](https://scikit-image.org/docs/stable/api/skimage.util.html)"
   ]
  },
  {
   "cell_type": "code",
   "execution_count": null,
   "metadata": {},
   "outputs": [],
   "source": [
    "from skimage.util import img_as_ubyte\n",
    "b = img_as_ubyte(a) # Images of type float must be between -1 and 1\n",
    "print(b)"
   ]
  },
  {
   "cell_type": "markdown",
   "metadata": {},
   "source": [
    "### mat2gray"
   ]
  },
  {
   "cell_type": "code",
   "execution_count": null,
   "metadata": {},
   "outputs": [],
   "source": [
    "babon = cv2.imread(\"images/mandril.tiff\",0) # Load grayscale image\n",
    "plt.imshow(babon, cmap='gray')\n",
    "plt.show()"
   ]
  },
  {
   "cell_type": "code",
   "execution_count": null,
   "metadata": {},
   "outputs": [],
   "source": [
    "babon_50_100 = np.copy(babon)\n",
    "babon_50_100[babon_50_100[:]<50]=0\n",
    "babon_50_100[babon_50_100[:]> 100]=255\n",
    "plt.imshow(babon_50_100, cmap='gray')\n",
    "plt.show()"
   ]
  },
  {
   "cell_type": "code",
   "execution_count": null,
   "metadata": {},
   "outputs": [],
   "source": [
    "babon_50_150 = np.copy(babon)\n",
    "babon_50_150[babon_50_150[:]<50]=0\n",
    "babon_50_150[babon_50_150[:]> 150]=255\n",
    "plt.imshow(babon_50_150, cmap='gray')\n",
    "plt.show()"
   ]
  },
  {
   "cell_type": "code",
   "execution_count": null,
   "metadata": {},
   "outputs": [],
   "source": [
    "babon_130_200 = np.copy(babon)\n",
    "babon_130_200[babon_130_200[:]<130]=0\n",
    "babon_130_200[babon_130_200[:]> 200]=255\n",
    "plt.imshow(babon_130_200, cmap='gray')\n",
    "plt.show()"
   ]
  },
  {
   "cell_type": "markdown",
   "metadata": {},
   "source": [
    "### Threshold\n",
    "``cv2.threshold(inputimage, <threshold>, <max_value>, <threshold_type>``"
   ]
  },
  {
   "cell_type": "code",
   "execution_count": null,
   "metadata": {},
   "outputs": [],
   "source": [
    "# Compute binary images with different thresholds\n",
    "ret, thres_b64 = cv2.threshold(babon, 64,255, cv2.THRESH_BINARY)\n",
    "ret, thres_b128 = cv2.threshold(babon, 128,255, cv2.THRESH_BINARY)\n",
    "ret, thres_b194 = cv2.threshold(babon, 194,255, cv2.THRESH_BINARY)\n",
    "# Show results\n",
    "f, subplt = plt.subplots(1,3,figsize=(16,5))\n",
    "subplt[0].imshow(thres_b64,cmap='gray')\n",
    "subplt[0].set_title(\"Binary Threshold 64\")\n",
    "subplt[1].imshow(thres_b128,cmap='gray')\n",
    "subplt[1].set_title(\"Binary Threshold 128\")\n",
    "subplt[2].imshow(thres_b194,cmap='gray')\n",
    "subplt[2].set_title(\"Binary Threshold 194\")\n",
    "plt.show()"
   ]
  },
  {
   "cell_type": "markdown",
   "metadata": {},
   "source": [
    "# vector indexing"
   ]
  },
  {
   "cell_type": "code",
   "execution_count": null,
   "metadata": {},
   "outputs": [],
   "source": [
    "a = [1, 3, 5, 7, 9]\n",
    "a"
   ]
  },
  {
   "cell_type": "code",
   "execution_count": null,
   "metadata": {},
   "outputs": [],
   "source": [
    "a[2]"
   ]
  },
  {
   "cell_type": "code",
   "execution_count": null,
   "metadata": {},
   "outputs": [],
   "source": [
    "a[:]"
   ]
  },
  {
   "cell_type": "code",
   "execution_count": null,
   "metadata": {},
   "outputs": [],
   "source": [
    "a[0:]"
   ]
  },
  {
   "cell_type": "code",
   "execution_count": null,
   "metadata": {},
   "outputs": [],
   "source": [
    "np.reshape(a[:],(5,1))"
   ]
  },
  {
   "cell_type": "code",
   "execution_count": null,
   "metadata": {},
   "outputs": [],
   "source": [
    "a[::2]"
   ]
  },
  {
   "cell_type": "code",
   "execution_count": null,
   "metadata": {},
   "outputs": [],
   "source": [
    "a[::-2]"
   ]
  },
  {
   "cell_type": "code",
   "execution_count": null,
   "metadata": {},
   "outputs": [],
   "source": [
    "a[0:3]"
   ]
  },
  {
   "cell_type": "markdown",
   "metadata": {},
   "source": [
    "#### 2D arrays"
   ]
  },
  {
   "cell_type": "code",
   "execution_count": null,
   "metadata": {},
   "outputs": [],
   "source": [
    "a=[[1,2,3],[4,5,6],[7,8,9]]\n",
    "a"
   ]
  },
  {
   "cell_type": "code",
   "execution_count": null,
   "metadata": {},
   "outputs": [],
   "source": [
    "a_np = np.array(a)\n",
    "a_np"
   ]
  },
  {
   "cell_type": "code",
   "execution_count": null,
   "metadata": {},
   "outputs": [],
   "source": [
    "print(a[1][2])\n",
    "print(a_np[1,2])\n",
    "print(a_np[1][2])"
   ]
  },
  {
   "cell_type": "code",
   "execution_count": null,
   "metadata": {},
   "outputs": [],
   "source": [
    "print(a[:][2])\n",
    "print(a_np[:][2])\n",
    "print(a_np[:,2])"
   ]
  },
  {
   "cell_type": "code",
   "execution_count": null,
   "metadata": {},
   "outputs": [],
   "source": [
    "a_np[1,:]"
   ]
  },
  {
   "cell_type": "code",
   "execution_count": null,
   "metadata": {},
   "outputs": [],
   "source": [
    "a_np[0:2,0:3]"
   ]
  },
  {
   "cell_type": "code",
   "execution_count": null,
   "metadata": {},
   "outputs": [],
   "source": [
    "b= np.copy(a_np)\n",
    "b[:,2]=0\n",
    "b"
   ]
  },
  {
   "cell_type": "code",
   "execution_count": null,
   "metadata": {},
   "outputs": [],
   "source": [
    "D = np.bool8([[1,0,0],[1,0,1],[0,0,0]])\n",
    "print(D)\n",
    "a_np[D]"
   ]
  },
  {
   "cell_type": "code",
   "execution_count": null,
   "metadata": {},
   "outputs": [],
   "source": [
    "np.sum(a_np)"
   ]
  },
  {
   "cell_type": "code",
   "execution_count": null,
   "metadata": {},
   "outputs": [],
   "source": [
    "np.sum(a_np,0)"
   ]
  },
  {
   "cell_type": "code",
   "execution_count": null,
   "metadata": {},
   "outputs": [],
   "source": [
    "np.sum(a_np,1)"
   ]
  },
  {
   "cell_type": "markdown",
   "metadata": {},
   "source": [
    "## Flib and region of interest(ROI)"
   ]
  },
  {
   "cell_type": "code",
   "execution_count": null,
   "metadata": {},
   "outputs": [],
   "source": [
    "fp = cv2.flip(babon,0)\n",
    "plt.imshow(fp,cmap='gray')\n",
    "plt.title(\"flipped Baboon\")\n",
    "plt.show()"
   ]
  },
  {
   "cell_type": "code",
   "execution_count": null,
   "metadata": {},
   "outputs": [],
   "source": [
    "cr = babon[130:400,120:400]\n",
    "plt.imshow(cr,cmap='gray')\n",
    "plt.title(\"cropped Baboon\")\n",
    "plt.show()"
   ]
  },
  {
   "cell_type": "code",
   "execution_count": null,
   "metadata": {},
   "outputs": [],
   "source": [
    "fs = babon[::2,::2]\n",
    "fs2 = babon[::4,::4]\n",
    "f, subplt = plt.subplots(1,2,figsize=(16,5))\n",
    "subplt[0].imshow(fs,cmap='gray')\n",
    "subplt[0].set_title(\"subsampled Baboon\")\n",
    "subplt[1].imshow(fs2,cmap='gray')\n",
    "subplt[1].set_title(\"subsampled Baboon\")\n",
    "plt.show()"
   ]
  },
  {
   "cell_type": "code",
   "execution_count": null,
   "metadata": {},
   "outputs": [],
   "source": [
    "print(np.zeros((2,3)))\n",
    "print()\n",
    "print(np.ones((2,3)))\n",
    "print()\n",
    "print(np.random.rand(2,3))\n",
    "print()\n",
    "print(np.random.randn(2,3))\n",
    "print()\n",
    "print(np.eye(3))"
   ]
  },
  {
   "cell_type": "markdown",
   "metadata": {},
   "source": [
    "# Color image"
   ]
  },
  {
   "cell_type": "code",
   "execution_count": null,
   "metadata": {},
   "outputs": [],
   "source": [
    "img = cv2.imread(\"images/FigP0625.tif\")\n",
    "img = cv2.cvtColor(img, cv2.COLOR_BGR2RGB)\n",
    "plt.imshow(img)\n",
    "plt.title(\"RGB image\")\n",
    "plt.show()\n",
    "img.shape"
   ]
  },
  {
   "cell_type": "code",
   "execution_count": null,
   "metadata": {},
   "outputs": [],
   "source": [
    "f, subplt = plt.subplots(1,3,figsize=(16,5))\n",
    "subplt[0].imshow(img[:,:,0],cmap='gray')\n",
    "subplt[0].set_title(\"RED\")\n",
    "subplt[1].imshow(img[:,:,1],cmap='gray')\n",
    "subplt[1].set_title(\"GREEN\")\n",
    "subplt[2].imshow(img[:,:,2],cmap='gray')\n",
    "subplt[2].set_title(\"BLUE\")\n",
    "plt.show()"
   ]
  },
  {
   "cell_type": "code",
   "execution_count": null,
   "metadata": {},
   "outputs": [],
   "source": [
    "f, subplt = plt.subplots(1,3,figsize=(16,5))\n",
    "J = np.zeros(img.shape,np.uint8)\n",
    "J[:,:,0] = img[:,:,0]\n",
    "subplt[0].imshow(J)\n",
    "subplt[0].set_title(\"RED\")\n",
    "\n",
    "J = np.zeros(img.shape,np.uint8)\n",
    "J[:,:,1] = img[:,:,1]\n",
    "subplt[1].imshow(J)\n",
    "subplt[1].set_title(\"GREEN\")\n",
    "\n",
    "J = np.zeros(img.shape,np.uint8)\n",
    "J[:,:,2] = img[:,:,2]\n",
    "subplt[2].imshow(J)\n",
    "subplt[2].set_title(\"BLUE\")\n",
    "plt.show()"
   ]
  },
  {
   "cell_type": "code",
   "execution_count": null,
   "metadata": {},
   "outputs": [],
   "source": [
    "img = cv2.imread(\"images/mandril.tiff\",-1)\n",
    "img = cv2.cvtColor(img,cv2.COLOR_BGR2RGB)\n",
    "plt.imshow(img)\n",
    "plt.title(\"Original RGB image\")\n",
    "plt.show()\n",
    "\n",
    "ycbcr_img = cv2.cvtColor(img,cv2.COLOR_RGB2YCrCb)\n",
    "\n",
    "f, subplt = plt.subplots(1,3,figsize=(16,5))\n",
    "subplt[0].imshow(ycbcr_img[:,:,0],cmap='gray')\n",
    "subplt[0].set_title(\"Y\")\n",
    "subplt[1].imshow(ycbcr_img[:,:,2],cmap='gray')\n",
    "subplt[1].set_title(\"Cb\")\n",
    "subplt[2].imshow(ycbcr_img[:,:,1],cmap='gray')\n",
    "subplt[2].set_title(\"Cr\")\n",
    "\n",
    "plt.show()\n",
    "\n",
    "\n",
    "img = cv2.cvtColor(ycbcr_img,cv2.COLOR_YCrCb2RGB)"
   ]
  },
  {
   "cell_type": "code",
   "execution_count": null,
   "metadata": {},
   "outputs": [],
   "source": [
    "img = cv2.imread(\"images/mandril.tiff\",-1)\n",
    "yuv_img = cv2.cvtColor(img,cv2.COLOR_RGB2YUV)\n",
    "\n",
    "f, subplt = plt.subplots(1,3,figsize=(16,5))\n",
    "subplt[0].imshow(yuv_img[:,:,0],cmap='gray')\n",
    "subplt[0].set_title(\"Y\")\n",
    "subplt[1].imshow(yuv_img[:,:,1],cmap='gray')\n",
    "subplt[1].set_title(\"U\")\n",
    "subplt[2].imshow(yuv_img[:,:,2],cmap='gray')\n",
    "subplt[2].set_title(\"V\")\n",
    "plt.show()\n",
    "\n",
    "\n",
    "img = cv2.cvtColor(yuv_img,cv2.COLOR_YUV2RGB)"
   ]
  },
  {
   "cell_type": "code",
   "execution_count": null,
   "metadata": {},
   "outputs": [],
   "source": [
    "img = cv2.imread(\"images/mandril.tiff\",-1)\n",
    "hsv_img = cv2.cvtColor(img,cv2.COLOR_RGB2HSV)\n",
    "\n",
    "f, subplt = plt.subplots(1,3,figsize=(16,5))\n",
    "subplt[0].imshow(hsv_img[:,:,0],cmap='gray')\n",
    "subplt[0].set_title(\"H\")\n",
    "subplt[1].imshow(hsv_img[:,:,1],cmap='gray')\n",
    "subplt[1].set_title(\"S\")\n",
    "subplt[2].imshow(hsv_img[:,:,2],cmap='gray')\n",
    "subplt[2].set_title(\"V\")\n",
    "plt.show()\n",
    "\n",
    "\n",
    "img = cv2.cvtColor(hsv_img,cv2.COLOR_HSV2RGB)"
   ]
  }
 ],
 "metadata": {
  "kernelspec": {
   "display_name": "Python 3",
   "language": "python",
   "name": "python3"
  },
  "language_info": {
   "codemirror_mode": {
    "name": "ipython",
    "version": 3
   },
   "file_extension": ".py",
   "mimetype": "text/x-python",
   "name": "python",
   "nbconvert_exporter": "python",
   "pygments_lexer": "ipython3",
   "version": "3.5.2"
  }
 },
 "nbformat": 4,
 "nbformat_minor": 2
}
